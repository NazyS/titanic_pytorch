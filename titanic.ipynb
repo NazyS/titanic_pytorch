{
 "cells": [
  {
   "cell_type": "code",
   "execution_count": 1,
   "metadata": {},
   "outputs": [],
   "source": [
    "import torch\n",
    "import numpy as np\n",
    "import matplotlib.pyplot as plt\n",
    "import pandas as pd\n",
    "\n",
    "import random\n",
    "random.seed(42)\n",
    "np.random.seed(42)\n",
    "torch.manual_seed(42)\n",
    "torch.cuda.manual_seed_all(42)\n",
    "# torch.backends.cudnn.deterministic = True\n",
    "# torch.backends.cudnn.benchmark = False"
   ]
  },
  {
   "cell_type": "code",
   "execution_count": 2,
   "metadata": {},
   "outputs": [],
   "source": [
    "dataset = pd.read_csv('dataset/train.csv', index_col=False)\n",
    "test_dataset = pd.read_csv('dataset/test.csv', index_col=False)"
   ]
  },
  {
   "cell_type": "code",
   "execution_count": 3,
   "metadata": {},
   "outputs": [
    {
     "data": {
      "text/html": [
       "<div>\n",
       "<style scoped>\n",
       "    .dataframe tbody tr th:only-of-type {\n",
       "        vertical-align: middle;\n",
       "    }\n",
       "\n",
       "    .dataframe tbody tr th {\n",
       "        vertical-align: top;\n",
       "    }\n",
       "\n",
       "    .dataframe thead th {\n",
       "        text-align: right;\n",
       "    }\n",
       "</style>\n",
       "<table border=\"1\" class=\"dataframe\">\n",
       "  <thead>\n",
       "    <tr style=\"text-align: right;\">\n",
       "      <th></th>\n",
       "      <th>PassengerId</th>\n",
       "      <th>Survived</th>\n",
       "      <th>Pclass</th>\n",
       "      <th>Name</th>\n",
       "      <th>Sex</th>\n",
       "      <th>Age</th>\n",
       "      <th>SibSp</th>\n",
       "      <th>Parch</th>\n",
       "      <th>Ticket</th>\n",
       "      <th>Fare</th>\n",
       "      <th>Cabin</th>\n",
       "      <th>Embarked</th>\n",
       "    </tr>\n",
       "  </thead>\n",
       "  <tbody>\n",
       "    <tr>\n",
       "      <th>0</th>\n",
       "      <td>1</td>\n",
       "      <td>0</td>\n",
       "      <td>3</td>\n",
       "      <td>Braund, Mr. Owen Harris</td>\n",
       "      <td>male</td>\n",
       "      <td>22.0</td>\n",
       "      <td>1</td>\n",
       "      <td>0</td>\n",
       "      <td>A/5 21171</td>\n",
       "      <td>7.2500</td>\n",
       "      <td>NaN</td>\n",
       "      <td>S</td>\n",
       "    </tr>\n",
       "    <tr>\n",
       "      <th>1</th>\n",
       "      <td>2</td>\n",
       "      <td>1</td>\n",
       "      <td>1</td>\n",
       "      <td>Cumings, Mrs. John Bradley (Florence Briggs Th...</td>\n",
       "      <td>female</td>\n",
       "      <td>38.0</td>\n",
       "      <td>1</td>\n",
       "      <td>0</td>\n",
       "      <td>PC 17599</td>\n",
       "      <td>71.2833</td>\n",
       "      <td>C85</td>\n",
       "      <td>C</td>\n",
       "    </tr>\n",
       "    <tr>\n",
       "      <th>2</th>\n",
       "      <td>3</td>\n",
       "      <td>1</td>\n",
       "      <td>3</td>\n",
       "      <td>Heikkinen, Miss. Laina</td>\n",
       "      <td>female</td>\n",
       "      <td>26.0</td>\n",
       "      <td>0</td>\n",
       "      <td>0</td>\n",
       "      <td>STON/O2. 3101282</td>\n",
       "      <td>7.9250</td>\n",
       "      <td>NaN</td>\n",
       "      <td>S</td>\n",
       "    </tr>\n",
       "    <tr>\n",
       "      <th>3</th>\n",
       "      <td>4</td>\n",
       "      <td>1</td>\n",
       "      <td>1</td>\n",
       "      <td>Futrelle, Mrs. Jacques Heath (Lily May Peel)</td>\n",
       "      <td>female</td>\n",
       "      <td>35.0</td>\n",
       "      <td>1</td>\n",
       "      <td>0</td>\n",
       "      <td>113803</td>\n",
       "      <td>53.1000</td>\n",
       "      <td>C123</td>\n",
       "      <td>S</td>\n",
       "    </tr>\n",
       "    <tr>\n",
       "      <th>4</th>\n",
       "      <td>5</td>\n",
       "      <td>0</td>\n",
       "      <td>3</td>\n",
       "      <td>Allen, Mr. William Henry</td>\n",
       "      <td>male</td>\n",
       "      <td>35.0</td>\n",
       "      <td>0</td>\n",
       "      <td>0</td>\n",
       "      <td>373450</td>\n",
       "      <td>8.0500</td>\n",
       "      <td>NaN</td>\n",
       "      <td>S</td>\n",
       "    </tr>\n",
       "    <tr>\n",
       "      <th>...</th>\n",
       "      <td>...</td>\n",
       "      <td>...</td>\n",
       "      <td>...</td>\n",
       "      <td>...</td>\n",
       "      <td>...</td>\n",
       "      <td>...</td>\n",
       "      <td>...</td>\n",
       "      <td>...</td>\n",
       "      <td>...</td>\n",
       "      <td>...</td>\n",
       "      <td>...</td>\n",
       "      <td>...</td>\n",
       "    </tr>\n",
       "    <tr>\n",
       "      <th>886</th>\n",
       "      <td>887</td>\n",
       "      <td>0</td>\n",
       "      <td>2</td>\n",
       "      <td>Montvila, Rev. Juozas</td>\n",
       "      <td>male</td>\n",
       "      <td>27.0</td>\n",
       "      <td>0</td>\n",
       "      <td>0</td>\n",
       "      <td>211536</td>\n",
       "      <td>13.0000</td>\n",
       "      <td>NaN</td>\n",
       "      <td>S</td>\n",
       "    </tr>\n",
       "    <tr>\n",
       "      <th>887</th>\n",
       "      <td>888</td>\n",
       "      <td>1</td>\n",
       "      <td>1</td>\n",
       "      <td>Graham, Miss. Margaret Edith</td>\n",
       "      <td>female</td>\n",
       "      <td>19.0</td>\n",
       "      <td>0</td>\n",
       "      <td>0</td>\n",
       "      <td>112053</td>\n",
       "      <td>30.0000</td>\n",
       "      <td>B42</td>\n",
       "      <td>S</td>\n",
       "    </tr>\n",
       "    <tr>\n",
       "      <th>888</th>\n",
       "      <td>889</td>\n",
       "      <td>0</td>\n",
       "      <td>3</td>\n",
       "      <td>Johnston, Miss. Catherine Helen \"Carrie\"</td>\n",
       "      <td>female</td>\n",
       "      <td>NaN</td>\n",
       "      <td>1</td>\n",
       "      <td>2</td>\n",
       "      <td>W./C. 6607</td>\n",
       "      <td>23.4500</td>\n",
       "      <td>NaN</td>\n",
       "      <td>S</td>\n",
       "    </tr>\n",
       "    <tr>\n",
       "      <th>889</th>\n",
       "      <td>890</td>\n",
       "      <td>1</td>\n",
       "      <td>1</td>\n",
       "      <td>Behr, Mr. Karl Howell</td>\n",
       "      <td>male</td>\n",
       "      <td>26.0</td>\n",
       "      <td>0</td>\n",
       "      <td>0</td>\n",
       "      <td>111369</td>\n",
       "      <td>30.0000</td>\n",
       "      <td>C148</td>\n",
       "      <td>C</td>\n",
       "    </tr>\n",
       "    <tr>\n",
       "      <th>890</th>\n",
       "      <td>891</td>\n",
       "      <td>0</td>\n",
       "      <td>3</td>\n",
       "      <td>Dooley, Mr. Patrick</td>\n",
       "      <td>male</td>\n",
       "      <td>32.0</td>\n",
       "      <td>0</td>\n",
       "      <td>0</td>\n",
       "      <td>370376</td>\n",
       "      <td>7.7500</td>\n",
       "      <td>NaN</td>\n",
       "      <td>Q</td>\n",
       "    </tr>\n",
       "  </tbody>\n",
       "</table>\n",
       "<p>891 rows × 12 columns</p>\n",
       "</div>"
      ],
      "text/plain": [
       "     PassengerId  Survived  Pclass  \\\n",
       "0              1         0       3   \n",
       "1              2         1       1   \n",
       "2              3         1       3   \n",
       "3              4         1       1   \n",
       "4              5         0       3   \n",
       "..           ...       ...     ...   \n",
       "886          887         0       2   \n",
       "887          888         1       1   \n",
       "888          889         0       3   \n",
       "889          890         1       1   \n",
       "890          891         0       3   \n",
       "\n",
       "                                                  Name     Sex   Age  SibSp  \\\n",
       "0                              Braund, Mr. Owen Harris    male  22.0      1   \n",
       "1    Cumings, Mrs. John Bradley (Florence Briggs Th...  female  38.0      1   \n",
       "2                               Heikkinen, Miss. Laina  female  26.0      0   \n",
       "3         Futrelle, Mrs. Jacques Heath (Lily May Peel)  female  35.0      1   \n",
       "4                             Allen, Mr. William Henry    male  35.0      0   \n",
       "..                                                 ...     ...   ...    ...   \n",
       "886                              Montvila, Rev. Juozas    male  27.0      0   \n",
       "887                       Graham, Miss. Margaret Edith  female  19.0      0   \n",
       "888           Johnston, Miss. Catherine Helen \"Carrie\"  female   NaN      1   \n",
       "889                              Behr, Mr. Karl Howell    male  26.0      0   \n",
       "890                                Dooley, Mr. Patrick    male  32.0      0   \n",
       "\n",
       "     Parch            Ticket     Fare Cabin Embarked  \n",
       "0        0         A/5 21171   7.2500   NaN        S  \n",
       "1        0          PC 17599  71.2833   C85        C  \n",
       "2        0  STON/O2. 3101282   7.9250   NaN        S  \n",
       "3        0            113803  53.1000  C123        S  \n",
       "4        0            373450   8.0500   NaN        S  \n",
       "..     ...               ...      ...   ...      ...  \n",
       "886      0            211536  13.0000   NaN        S  \n",
       "887      0            112053  30.0000   B42        S  \n",
       "888      2        W./C. 6607  23.4500   NaN        S  \n",
       "889      0            111369  30.0000  C148        C  \n",
       "890      0            370376   7.7500   NaN        Q  \n",
       "\n",
       "[891 rows x 12 columns]"
      ]
     },
     "execution_count": 3,
     "metadata": {},
     "output_type": "execute_result"
    }
   ],
   "source": [
    "dataset"
   ]
  },
  {
   "cell_type": "code",
   "execution_count": 4,
   "metadata": {},
   "outputs": [
    {
     "data": {
      "text/plain": [
       "array([nan, 'C85', 'C123', 'E46', 'G6', 'C103', 'D56', 'A6',\n",
       "       'C23 C25 C27', 'B78', 'D33', 'B30', 'C52', 'B28', 'C83', 'F33',\n",
       "       'F G73', 'E31', 'A5', 'D10 D12', 'D26', 'C110', 'B58 B60', 'E101',\n",
       "       'F E69', 'D47', 'B86', 'F2', 'C2', 'E33', 'B19', 'A7', 'C49', 'F4',\n",
       "       'A32', 'B4', 'B80', 'A31', 'D36', 'D15', 'C93', 'C78', 'D35',\n",
       "       'C87', 'B77', 'E67', 'B94', 'C125', 'C99', 'C118', 'D7', 'A19',\n",
       "       'B49', 'D', 'C22 C26', 'C106', 'C65', 'E36', 'C54',\n",
       "       'B57 B59 B63 B66', 'C7', 'E34', 'C32', 'B18', 'C124', 'C91', 'E40',\n",
       "       'T', 'C128', 'D37', 'B35', 'E50', 'C82', 'B96 B98', 'E10', 'E44',\n",
       "       'A34', 'C104', 'C111', 'C92', 'E38', 'D21', 'E12', 'E63', 'A14',\n",
       "       'B37', 'C30', 'D20', 'B79', 'E25', 'D46', 'B73', 'C95', 'B38',\n",
       "       'B39', 'B22', 'C86', 'C70', 'A16', 'C101', 'C68', 'A10', 'E68',\n",
       "       'B41', 'A20', 'D19', 'D50', 'D9', 'A23', 'B50', 'A26', 'D48',\n",
       "       'E58', 'C126', 'B71', 'B51 B53 B55', 'D49', 'B5', 'B20', 'F G63',\n",
       "       'C62 C64', 'E24', 'C90', 'C45', 'E8', 'B101', 'D45', 'C46', 'D30',\n",
       "       'E121', 'D11', 'E77', 'F38', 'B3', 'D6', 'B82 B84', 'D17', 'A36',\n",
       "       'B102', 'B69', 'E49', 'C47', 'D28', 'E17', 'A24', 'C50', 'B42',\n",
       "       'C148'], dtype=object)"
      ]
     },
     "execution_count": 4,
     "metadata": {},
     "output_type": "execute_result"
    }
   ],
   "source": [
    "dataset.Cabin.unique()"
   ]
  },
  {
   "cell_type": "code",
   "execution_count": 5,
   "metadata": {},
   "outputs": [
    {
     "data": {
      "text/plain": [
       "array(['S', 'C', 'Q', nan], dtype=object)"
      ]
     },
     "execution_count": 5,
     "metadata": {},
     "output_type": "execute_result"
    }
   ],
   "source": [
    "dataset.Embarked.unique()"
   ]
  },
  {
   "cell_type": "code",
   "execution_count": 6,
   "metadata": {},
   "outputs": [],
   "source": [
    "tickets = dataset.Ticket.unique()"
   ]
  },
  {
   "cell_type": "code",
   "execution_count": 7,
   "metadata": {},
   "outputs": [
    {
     "data": {
      "text/plain": [
       "681"
      ]
     },
     "execution_count": 7,
     "metadata": {},
     "output_type": "execute_result"
    }
   ],
   "source": [
    "tickets.size"
   ]
  },
  {
   "cell_type": "code",
   "execution_count": 8,
   "metadata": {
    "scrolled": true
   },
   "outputs": [
    {
     "data": {
      "text/plain": [
       "array(['110152', '110413', '110465', '110564', '110813', '111240',\n",
       "       '111320', '111361', '111369', '111426', '111427', '111428',\n",
       "       '112050', '112052', '112053', '112058', '112059', '112277',\n",
       "       '112379', '113028', '113043', '113050', '113051', '113055',\n",
       "       '113056', '113059', '113501', '113503', '113505', '113509',\n",
       "       '113510', '113514', '113572', '113760', '113767', '113773',\n",
       "       '113776', '113781', '113783', '113784', '113786', '113787',\n",
       "       '113788', '113789', '113792', '113794', '113796', '113798',\n",
       "       '113800', '113803', '113804', '113806', '113807', '11668', '11751',\n",
       "       '11752', '11753', '11755', '11765', '11767', '11769', '11771',\n",
       "       '11774', '11813', '11967', '12233', '12460', '12749', '13049',\n",
       "       '13213', '13214', '13502', '13507', '13509', '13567', '13568',\n",
       "       '14311', '14312', '14313', '14973', '1601', '16966', '16988',\n",
       "       '17421', '17453', '17463', '17464', '17465', '17466', '17474',\n",
       "       '17764', '19877', '19928', '19943', '19947', '19950', '19952',\n",
       "       '19972', '19988', '19996', '2003', '211536', '21440', '218629',\n",
       "       '219533', '220367', '220845', '2223', '223596', '226593', '226875',\n",
       "       '228414', '229236', '230080', '230136', '230433', '230434',\n",
       "       '231919', '231945', '233639', '233866', '234360', '234604',\n",
       "       '234686', '234818', '236171', '236852', '236853', '237442',\n",
       "       '237565', '237668', '237671', '237736', '237789', '237798',\n",
       "       '239853', '239854', '239855', '239856', '239865', '240929',\n",
       "       '24160', '243847', '243880', '244252', '244270', '244278',\n",
       "       '244310', '244358', '244361', '244367', '244373', '248698',\n",
       "       '248706', '248723', '248727', '248731', '248733', '248738',\n",
       "       '248740', '248747', '250643', '250644', '250646', '250647',\n",
       "       '250648', '250649', '250651', '250652', '250653', '250655', '2620',\n",
       "       '2623', '2624', '2625', '2626', '2627', '2628', '2629', '2631',\n",
       "       '26360', '2641', '2647', '2648', '2649', '2650', '2651', '2653',\n",
       "       '2659', '2661', '2662', '2663', '2664', '2665', '2666', '2667',\n",
       "       '2668', '2669', '26707', '2671', '2672', '2674', '2677', '2678',\n",
       "       '2680', '2683', '2685', '2686', '2687', '2689', '2690', '2691',\n",
       "       '2693', '2694', '2695', '2697', '2699', '2700', '27042', '27267',\n",
       "       '27849', '28134', '28206', '28213', '28220', '28228', '28403',\n",
       "       '28424', '28425', '28551', '28664', '28665', '29011', '2908',\n",
       "       '29103', '29104', '29105', '29106', '29108', '2926', '29750',\n",
       "       '29751', '3101264', '3101265', '3101267', '3101276', '3101277',\n",
       "       '3101278', '3101281', '3101295', '3101296', '3101298', '31027',\n",
       "       '31028', '312991', '312992', '312993', '31418', '315037', '315082',\n",
       "       '315084', '315086', '315088', '315089', '315090', '315093',\n",
       "       '315094', '315096', '315097', '315098', '315151', '315153',\n",
       "       '323592', '323951', '324669', '330877', '330909', '330919',\n",
       "       '330923', '330931', '330932', '330935', '330958', '330959',\n",
       "       '330979', '330980', '334912', '335097', '335677', '33638',\n",
       "       '336439', '3411', '341826', '34218', '342826', '343095', '343120',\n",
       "       '343275', '343276', '345364', '345572', '345763', '345764',\n",
       "       '345765', '345767', '345769', '345770', '345773', '345774',\n",
       "       '345777', '345778', '345779', '345780', '345781', '345783', '3460',\n",
       "       '347054', '347060', '347061', '347062', '347063', '347064',\n",
       "       '347067', '347068', '347069', '347071', '347073', '347074',\n",
       "       '347076', '347077', '347078', '347080', '347081', '347082',\n",
       "       '347083', '347085', '347087', '347088', '347089', '3474', '347464',\n",
       "       '347466', '347468', '347470', '347742', '347743', '348121',\n",
       "       '348123', '348124', '349201', '349203', '349204', '349205',\n",
       "       '349206', '349207', '349208', '349209', '349210', '349212',\n",
       "       '349213', '349214', '349215', '349216', '349217', '349218',\n",
       "       '349219', '349221', '349222', '349223', '349224', '349225',\n",
       "       '349227', '349228', '349231', '349233', '349234', '349236',\n",
       "       '349237', '349239', '349240', '349241', '349242', '349243',\n",
       "       '349244', '349245', '349246', '349247', '349248', '349249',\n",
       "       '349251', '349252', '349253', '349254', '349256', '349257',\n",
       "       '349909', '349910', '349912', '350025', '350026', '350029',\n",
       "       '350034', '350035', '350036', '350042', '350043', '350046',\n",
       "       '350047', '350048', '350050', '350052', '350060', '350404',\n",
       "       '350406', '350407', '350417', '35273', '35281', '35851', '35852',\n",
       "       '358585', '36209', '362316', '363291', '363294', '363592',\n",
       "       '364498', '364499', '364500', '364506', '364511', '364512',\n",
       "       '364516', '364846', '364848', '364849', '364850', '364851',\n",
       "       '365222', '365226', '36568', '367226', '367228', '367229',\n",
       "       '367230', '367231', '367232', '367655', '368323', '36864', '36865',\n",
       "       '36866', '368703', '36928', '36947', '36963', '36967', '36973',\n",
       "       '370129', '370365', '370369', '370370', '370371', '370372',\n",
       "       '370373', '370375', '370376', '370377', '371060', '371110',\n",
       "       '371362', '372622', '373450', '374746', '374887', '374910',\n",
       "       '376564', '376566', '382649', '382651', '382652', '383121',\n",
       "       '384461', '386525', '392091', '392092', '392096', '394140', '4133',\n",
       "       '4134', '4135', '4136', '4137', '4138', '4579', '54636', '5727',\n",
       "       '65303', '65304', '65306', '6563', '693', '695', '7267', '7534',\n",
       "       '7540', '7545', '7546', '7552', '7553', '7598', '8471', '8475',\n",
       "       '9234', 'A./5. 2152', 'A./5. 3235', 'A.5. 11206', 'A.5. 18509',\n",
       "       'A/4 45380', 'A/4 48871', 'A/4. 20589', 'A/4. 34244', 'A/4. 39886',\n",
       "       'A/5 21171', 'A/5 21172', 'A/5 21173', 'A/5 21174', 'A/5 2466',\n",
       "       'A/5 2817', 'A/5 3536', 'A/5 3540', 'A/5 3594', 'A/5 3902',\n",
       "       'A/5. 10482', 'A/5. 13032', 'A/5. 2151', 'A/5. 3336', 'A/5. 3337',\n",
       "       'A/5. 851', 'A/S 2816', 'A4. 54510', 'C 17369', 'C 4001', 'C 7075',\n",
       "       'C 7076', 'C 7077', 'C.A. 17248', 'C.A. 18723', 'C.A. 2315',\n",
       "       'C.A. 24579', 'C.A. 24580', 'C.A. 2673', 'C.A. 29178',\n",
       "       'C.A. 29395', 'C.A. 29566', 'C.A. 31026', 'C.A. 31921',\n",
       "       'C.A. 33111', 'C.A. 33112', 'C.A. 33595', 'C.A. 34260',\n",
       "       'C.A. 34651', 'C.A. 37671', 'C.A. 5547', 'C.A. 6212',\n",
       "       'C.A./SOTON 34068', 'CA 2144', 'CA. 2314', 'CA. 2343',\n",
       "       'F.C. 12750', 'F.C.C. 13528', 'F.C.C. 13529', 'F.C.C. 13531',\n",
       "       'Fa 265302', 'LINE', 'P/PP 3381', 'PC 17318', 'PC 17473',\n",
       "       'PC 17474', 'PC 17475', 'PC 17476', 'PC 17477', 'PC 17482',\n",
       "       'PC 17483', 'PC 17485', 'PC 17558', 'PC 17569', 'PC 17572',\n",
       "       'PC 17582', 'PC 17585', 'PC 17590', 'PC 17592', 'PC 17593',\n",
       "       'PC 17595', 'PC 17596', 'PC 17597', 'PC 17599', 'PC 17600',\n",
       "       'PC 17601', 'PC 17603', 'PC 17604', 'PC 17605', 'PC 17608',\n",
       "       'PC 17609', 'PC 17610', 'PC 17611', 'PC 17612', 'PC 17754',\n",
       "       'PC 17755', 'PC 17756', 'PC 17757', 'PC 17758', 'PC 17759',\n",
       "       'PC 17760', 'PC 17761', 'PP 4348', 'PP 9549', 'S.C./A.4. 23567',\n",
       "       'S.C./PARIS 2079', 'S.O./P.P. 3', 'S.O./P.P. 751', 'S.O.C. 14879',\n",
       "       'S.O.P. 1166', 'S.P. 3464', 'S.W./PP 752', 'SC 1748',\n",
       "       'SC/AH 29037', 'SC/AH 3085', 'SC/AH Basle 541', 'SC/PARIS 2131',\n",
       "       'SC/PARIS 2133', 'SC/PARIS 2146', 'SC/PARIS 2149', 'SC/PARIS 2167',\n",
       "       'SC/Paris 2123', 'SC/Paris 2163', 'SCO/W 1585', 'SO/C 14885',\n",
       "       'SOTON/O.Q. 3101305', 'SOTON/O.Q. 3101306', 'SOTON/O.Q. 3101307',\n",
       "       'SOTON/O.Q. 3101310', 'SOTON/O.Q. 3101311', 'SOTON/O.Q. 3101312',\n",
       "       'SOTON/O.Q. 392078', 'SOTON/O.Q. 392087', 'SOTON/O2 3101272',\n",
       "       'SOTON/O2 3101287', 'SOTON/OQ 3101316', 'SOTON/OQ 3101317',\n",
       "       'SOTON/OQ 392076', 'SOTON/OQ 392082', 'SOTON/OQ 392086',\n",
       "       'SOTON/OQ 392089', 'SOTON/OQ 392090', 'STON/O 2. 3101269',\n",
       "       'STON/O 2. 3101273', 'STON/O 2. 3101274', 'STON/O 2. 3101275',\n",
       "       'STON/O 2. 3101280', 'STON/O 2. 3101285', 'STON/O 2. 3101286',\n",
       "       'STON/O 2. 3101288', 'STON/O 2. 3101289', 'STON/O 2. 3101292',\n",
       "       'STON/O 2. 3101293', 'STON/O 2. 3101294', 'STON/O2. 3101271',\n",
       "       'STON/O2. 3101279', 'STON/O2. 3101282', 'STON/O2. 3101283',\n",
       "       'STON/O2. 3101290', 'SW/PP 751', 'W./C. 14258', 'W./C. 14263',\n",
       "       'W./C. 6607', 'W./C. 6608', 'W./C. 6609', 'W.E.P. 5734',\n",
       "       'W/C 14208', 'WE/P 5735'], dtype=object)"
      ]
     },
     "execution_count": 8,
     "metadata": {},
     "output_type": "execute_result"
    }
   ],
   "source": [
    "tickets.sort()\n",
    "tickets"
   ]
  },
  {
   "cell_type": "code",
   "execution_count": 9,
   "metadata": {},
   "outputs": [
    {
     "data": {
      "text/plain": [
       "array([22.  , 38.  , 26.  , 35.  ,   nan, 54.  ,  2.  , 27.  , 14.  ,\n",
       "        4.  , 58.  , 20.  , 39.  , 55.  , 31.  , 34.  , 15.  , 28.  ,\n",
       "        8.  , 19.  , 40.  , 66.  , 42.  , 21.  , 18.  ,  3.  ,  7.  ,\n",
       "       49.  , 29.  , 65.  , 28.5 ,  5.  , 11.  , 45.  , 17.  , 32.  ,\n",
       "       16.  , 25.  ,  0.83, 30.  , 33.  , 23.  , 24.  , 46.  , 59.  ,\n",
       "       71.  , 37.  , 47.  , 14.5 , 70.5 , 32.5 , 12.  ,  9.  , 36.5 ,\n",
       "       51.  , 55.5 , 40.5 , 44.  ,  1.  , 61.  , 56.  , 50.  , 36.  ,\n",
       "       45.5 , 20.5 , 62.  , 41.  , 52.  , 63.  , 23.5 ,  0.92, 43.  ,\n",
       "       60.  , 10.  , 64.  , 13.  , 48.  ,  0.75, 53.  , 57.  , 80.  ,\n",
       "       70.  , 24.5 ,  6.  ,  0.67, 30.5 ,  0.42, 34.5 , 74.  ])"
      ]
     },
     "execution_count": 9,
     "metadata": {},
     "output_type": "execute_result"
    }
   ],
   "source": [
    "dataset.Age.unique()"
   ]
  },
  {
   "cell_type": "code",
   "execution_count": 10,
   "metadata": {},
   "outputs": [
    {
     "data": {
      "text/html": [
       "<div>\n",
       "<style scoped>\n",
       "    .dataframe tbody tr th:only-of-type {\n",
       "        vertical-align: middle;\n",
       "    }\n",
       "\n",
       "    .dataframe tbody tr th {\n",
       "        vertical-align: top;\n",
       "    }\n",
       "\n",
       "    .dataframe thead th {\n",
       "        text-align: right;\n",
       "    }\n",
       "</style>\n",
       "<table border=\"1\" class=\"dataframe\">\n",
       "  <thead>\n",
       "    <tr style=\"text-align: right;\">\n",
       "      <th></th>\n",
       "      <th>PassengerId</th>\n",
       "      <th>Survived</th>\n",
       "      <th>Pclass</th>\n",
       "      <th>Name</th>\n",
       "      <th>Sex</th>\n",
       "      <th>Age</th>\n",
       "      <th>SibSp</th>\n",
       "      <th>Parch</th>\n",
       "      <th>Ticket</th>\n",
       "      <th>Fare</th>\n",
       "      <th>Cabin</th>\n",
       "      <th>Embarked</th>\n",
       "    </tr>\n",
       "  </thead>\n",
       "  <tbody>\n",
       "    <tr>\n",
       "      <th>305</th>\n",
       "      <td>306</td>\n",
       "      <td>1</td>\n",
       "      <td>1</td>\n",
       "      <td>Allison, Master. Hudson Trevor</td>\n",
       "      <td>male</td>\n",
       "      <td>0.92</td>\n",
       "      <td>1</td>\n",
       "      <td>2</td>\n",
       "      <td>113781</td>\n",
       "      <td>151.55</td>\n",
       "      <td>C22 C26</td>\n",
       "      <td>S</td>\n",
       "    </tr>\n",
       "  </tbody>\n",
       "</table>\n",
       "</div>"
      ],
      "text/plain": [
       "     PassengerId  Survived  Pclass                            Name   Sex  \\\n",
       "305          306         1       1  Allison, Master. Hudson Trevor  male   \n",
       "\n",
       "      Age  SibSp  Parch  Ticket    Fare    Cabin Embarked  \n",
       "305  0.92      1      2  113781  151.55  C22 C26        S  "
      ]
     },
     "execution_count": 10,
     "metadata": {},
     "output_type": "execute_result"
    }
   ],
   "source": [
    "dataset[dataset.Age == 0.92]"
   ]
  },
  {
   "cell_type": "code",
   "execution_count": 11,
   "metadata": {},
   "outputs": [
    {
     "data": {
      "image/png": "[encoded data removed]",
      "text/plain": [
       "<Figure size 432x288 with 1 Axes>"
      ]
     },
     "metadata": {
      "needs_background": "light"
     },
     "output_type": "display_data"
    }
   ],
   "source": [
    "plt.hist(dataset.Age, bins=20)\n",
    "plt.title('Age')\n",
    "plt.show()"
   ]
  },
  {
   "cell_type": "code",
   "execution_count": 12,
   "metadata": {},
   "outputs": [
    {
     "data": {
      "image/png": "[encoded data removed]",
      "text/plain": [
       "<Figure size 432x288 with 1 Axes>"
      ]
     },
     "metadata": {
      "needs_background": "light"
     },
     "output_type": "display_data"
    }
   ],
   "source": [
    "plt.hist(dataset.Sex, label='Total')\n",
    "plt.hist(dataset[dataset.Survived==1].Sex, label='Survived')\n",
    "\n",
    "plt.title('Sex')\n",
    "\n",
    "plt.legend(frameon=False)\n",
    "plt.show()"
   ]
  },
  {
   "cell_type": "code",
   "execution_count": 13,
   "metadata": {},
   "outputs": [
    {
     "data": {
      "text/plain": [
       "array([1, 0, 3, 4, 2, 5, 8], dtype=int64)"
      ]
     },
     "execution_count": 13,
     "metadata": {},
     "output_type": "execute_result"
    }
   ],
   "source": [
    "dataset.SibSp.unique()"
   ]
  },
  {
   "cell_type": "code",
   "execution_count": 14,
   "metadata": {},
   "outputs": [
    {
     "data": {
      "image/png": "[encoded data removed]",
      "text/plain": [
       "<Figure size 432x288 with 1 Axes>"
      ]
     },
     "metadata": {
      "needs_background": "light"
     },
     "output_type": "display_data"
    }
   ],
   "source": [
    "plt.hist(dataset.SibSp)\n",
    "plt.title('Siblings/Spouses')\n",
    "plt.show()"
   ]
  },
  {
   "cell_type": "code",
   "execution_count": 15,
   "metadata": {},
   "outputs": [
    {
     "data": {
      "text/plain": [
       "array([0, 1, 2, 5, 3, 4, 6], dtype=int64)"
      ]
     },
     "execution_count": 15,
     "metadata": {},
     "output_type": "execute_result"
    }
   ],
   "source": [
    "dataset.Parch.unique()"
   ]
  },
  {
   "cell_type": "code",
   "execution_count": 16,
   "metadata": {},
   "outputs": [
    {
     "data": {
      "image/png": "[encoded data removed]",
      "text/plain": [
       "<Figure size 432x288 with 1 Axes>"
      ]
     },
     "metadata": {
      "needs_background": "light"
     },
     "output_type": "display_data"
    }
   ],
   "source": [
    "plt.hist(dataset.Fare, \n",
    "         bins=50\n",
    "#          bins=dataset.Fare.unique().size\n",
    "        )\n",
    "# plt.xlim(0,100)\n",
    "plt.title('Fare')\n",
    "plt.show()"
   ]
  },
  {
   "cell_type": "code",
   "execution_count": null,
   "metadata": {},
   "outputs": [],
   "source": []
  },
  {
   "cell_type": "code",
   "execution_count": 17,
   "metadata": {},
   "outputs": [],
   "source": [
    "unique_pclass = tuple(set(dataset.Pclass))\n",
    "int2pclass = dict(enumerate(unique_pclass))\n",
    "pclass2int = {el:ii for ii, el in int2pclass.items()}\n",
    "\n",
    "unique_sex = tuple(set(dataset.Sex))\n",
    "int2sex = dict(enumerate(unique_sex))\n",
    "sex2int = {el:ii for ii, el in int2sex.items()}\n",
    "\n",
    "mean_age = dataset.Age.mean()\n",
    "age_bucket_boundaries = np.arange(5,80,5)\n",
    "\n",
    "unique_cabin = tuple(set(dataset.Cabin.append(test_dataset.Cabin)))\n",
    "int2cabin = dict(enumerate(unique_cabin))\n",
    "cabin2int = {el:ii for ii, el in int2cabin.items()}\n",
    "\n",
    "unique_embarked = tuple(set(dataset.Embarked))\n",
    "int2embarked = dict(enumerate(unique_embarked))\n",
    "embarked2int = {el:ii for ii, el in int2embarked.items()}\n",
    "\n",
    "median_fare = dataset.Fare.median()\n",
    "fare_bucket_boundaries = np.arange(10,500,10)"
   ]
  },
  {
   "cell_type": "code",
   "execution_count": 18,
   "metadata": {},
   "outputs": [],
   "source": [
    "def tokenize(arr, dictionary):\n",
    "    return np.array([ dictionary[el] for el in arr])"
   ]
  },
  {
   "cell_type": "code",
   "execution_count": 19,
   "metadata": {},
   "outputs": [],
   "source": [
    "def one_hot_encoding(arr, n_labels):\n",
    "    # Initialize the the encoded array\n",
    "    one_hot = np.zeros((arr.size, n_labels), dtype=np.float32)\n",
    "    \n",
    "    # Fill the appropriate elements with ones\n",
    "    one_hot[np.arange(one_hot.shape[0]), arr.flatten()] = 1.\n",
    "    \n",
    "    # Finally reshape it to get back to the original array\n",
    "    one_hot = one_hot.reshape((*arr.shape, n_labels))\n",
    "    \n",
    "    return one_hot"
   ]
  },
  {
   "cell_type": "code",
   "execution_count": 20,
   "metadata": {},
   "outputs": [],
   "source": [
    "def bucketize_and_encode(dataset, boundaries, replace_nan):\n",
    "    arr = np.array(dataset)\n",
    "    arr[np.isnan(arr)] = replace_nan\n",
    "    tensor = torch.from_numpy(arr)\n",
    "    vector_size = boundaries.size + 1\n",
    "    bucketized_tensor = torch.bucketize(tensor, torch.from_numpy(boundaries))\n",
    "    hot_encoded = one_hot_encoding(bucketized_tensor.numpy(), vector_size)\n",
    "    return hot_encoded"
   ]
  },
  {
   "cell_type": "code",
   "execution_count": null,
   "metadata": {},
   "outputs": [],
   "source": []
  },
  {
   "cell_type": "code",
   "execution_count": 21,
   "metadata": {},
   "outputs": [],
   "source": [
    "def preprocessing( dataset, labeled=True ):\n",
    "    size = len(dataset)\n",
    "#     array = np.empty((size,0))\n",
    "#     one_hot_enc_columns = ['Pclass','Sex','SibSp','Parch']\n",
    "\n",
    "    pclass_enc = one_hot_encoding(tokenize(dataset.Pclass,pclass2int), len(pclass2int))\n",
    "    sex_enc = one_hot_encoding(tokenize(dataset.Sex, sex2int), len(sex2int))\n",
    "    sibsp_enc = one_hot_encoding(dataset.SibSp.values, 9)\n",
    "    parch_enc = one_hot_encoding(dataset.Parch.values, 10)\n",
    "    cabin_enc = one_hot_encoding(tokenize(dataset.Cabin, cabin2int), len(cabin2int))\n",
    "    embarked_enc = one_hot_encoding(tokenize(dataset.Embarked, embarked2int), len(embarked2int))\n",
    "    \n",
    "    age_enc = bucketize_and_encode(dataset.Age, age_bucket_boundaries, mean_age)\n",
    "    fare_enc = bucketize_and_encode(dataset.Fare, fare_bucket_boundaries, median_fare)\n",
    "    \n",
    "    array = np.concatenate((pclass_enc, sex_enc, sibsp_enc, parch_enc, cabin_enc, embarked_enc, age_enc, fare_enc), axis=1)\n",
    "    \n",
    "    if labeled:\n",
    "        labels = dataset.Survived.to_numpy()\n",
    "        return array, labels\n",
    "    else:\n",
    "        return array"
   ]
  },
  {
   "cell_type": "code",
   "execution_count": null,
   "metadata": {},
   "outputs": [],
   "source": []
  },
  {
   "cell_type": "code",
   "execution_count": 22,
   "metadata": {},
   "outputs": [
    {
     "name": "stdout",
     "output_type": "stream",
     "text": [
      "Resulted shapes:\n",
      "\n",
      "Train:  (712, 281) (712,)\n",
      "Val:  (179, 281) (179,)\n",
      "Test:  (418, 281)\n"
     ]
    }
   ],
   "source": [
    "split_frac = 0.8\n",
    "split_idx = int(split_frac*len(dataset))\n",
    "\n",
    "train_x, train_y = preprocessing(dataset[:split_idx], labeled=True)\n",
    "val_x, val_y = preprocessing(dataset[split_idx:], labeled=True)\n",
    "test_x = preprocessing(test_dataset, labeled=False)\n",
    "\n",
    "print('Resulted shapes:\\n')\n",
    "print('Train: ', train_x.shape, train_y.shape)\n",
    "print('Val: ', val_x.shape, val_y.shape)\n",
    "print('Test: ', test_x.shape)"
   ]
  },
  {
   "cell_type": "code",
   "execution_count": 23,
   "metadata": {},
   "outputs": [],
   "source": [
    "from torch.utils.data import TensorDataset, DataLoader\n",
    "\n",
    "batch_size = 50 \n",
    "\n",
    "train_set = TensorDataset(torch.from_numpy(train_x), torch.from_numpy(train_y))\n",
    "val_set = TensorDataset(torch.from_numpy(val_x), torch.from_numpy(val_y))\n",
    "\n",
    "train_loader = DataLoader(train_set, shuffle=True, batch_size=batch_size)\n",
    "val_loader = DataLoader(val_set, shuffle=True, batch_size=batch_size)"
   ]
  },
  {
   "cell_type": "code",
   "execution_count": 24,
   "metadata": {},
   "outputs": [
    {
     "name": "stdout",
     "output_type": "stream",
     "text": [
      "Sample input size:  torch.Size([50, 281])\n",
      "Sample input: \n",
      " tensor([[0., 1., 0.,  ..., 0., 0., 0.],\n",
      "        [0., 0., 1.,  ..., 0., 0., 0.],\n",
      "        [1., 0., 0.,  ..., 0., 0., 0.],\n",
      "        ...,\n",
      "        [0., 0., 1.,  ..., 0., 0., 0.],\n",
      "        [0., 1., 0.,  ..., 0., 0., 0.],\n",
      "        [1., 0., 0.,  ..., 0., 0., 0.]])\n",
      "\n",
      "Sample label size:  torch.Size([50])\n",
      "Sample label: \n",
      " tensor([1, 0, 1, 0, 1, 1, 0, 1, 1, 0, 1, 1, 1, 0, 1, 0, 1, 0, 0, 1, 1, 1, 1, 0,\n",
      "        0, 0, 0, 0, 0, 1, 0, 0, 0, 1, 0, 0, 1, 0, 0, 1, 1, 0, 1, 0, 0, 1, 0, 0,\n",
      "        1, 1])\n"
     ]
    }
   ],
   "source": [
    "# obtain one batch of training data\n",
    "dataiter = iter(train_loader)\n",
    "sample_x, sample_y = dataiter.next()\n",
    "\n",
    "print('Sample input size: ', sample_x.size()) # batch_size, seq_length\n",
    "print('Sample input: \\n', sample_x)\n",
    "print()\n",
    "print('Sample label size: ', sample_y.size()) # batch_size\n",
    "print('Sample label: \\n', sample_y)"
   ]
  },
  {
   "cell_type": "code",
   "execution_count": 25,
   "metadata": {},
   "outputs": [
    {
     "name": "stdout",
     "output_type": "stream",
     "text": [
      "Training on GPU.\n"
     ]
    }
   ],
   "source": [
    "# First checking if GPU is available\n",
    "train_on_gpu=torch.cuda.is_available()\n",
    "\n",
    "if(train_on_gpu):\n",
    "    print('Training on GPU.')\n",
    "else:\n",
    "    print('No GPU available, training on CPU.')"
   ]
  },
  {
   "cell_type": "code",
   "execution_count": 26,
   "metadata": {},
   "outputs": [],
   "source": [
    "class titanic_dense_net(torch.nn.Module):\n",
    "    def __init__(self, hidden_layers=2, drop_prob=0.4):\n",
    "        super(titanic_dense_net, self).__init__()\n",
    "        \n",
    "        self.hidden_layers = hidden_layers\n",
    "        self.drop_prob = drop_prob\n",
    "        \n",
    "        self.fc1 = torch.nn.Linear(281, 256)\n",
    "        self.fc_middle = torch.nn.Linear(256, 256)\n",
    "        self.fc3 = torch.nn.Linear(256,64)\n",
    "        self.out = torch.nn.Linear(64,1)\n",
    "        \n",
    "        self.relu = torch.nn.ReLU()\n",
    "        self.dropout = torch.nn.Dropout(self.drop_prob)        \n",
    "        \n",
    "        self.sigmoid = torch.nn.Sigmoid()\n",
    "        \n",
    "    def forward(self, x):\n",
    "        x = self.fc1(x)\n",
    "        x = self.relu(x)\n",
    "        x = self.dropout(x)\n",
    "        \n",
    "        for _ in range(self.hidden_layers):\n",
    "            x = self.fc_middle(x)\n",
    "            x = self.relu(x)\n",
    "            x = self.dropout(x)\n",
    "        \n",
    "        x = self.fc3(x)\n",
    "        x = self.relu(x)\n",
    "        x = self.dropout(x)\n",
    "        \n",
    "        x = self.out(x)\n",
    "        x = self.sigmoid(x)\n",
    "        \n",
    "        return x"
   ]
  },
  {
   "cell_type": "code",
   "execution_count": 32,
   "metadata": {},
   "outputs": [],
   "source": [
    "net = titanic_dense_net(6, drop_prob=0.4)"
   ]
  },
  {
   "cell_type": "code",
   "execution_count": 33,
   "metadata": {},
   "outputs": [
    {
     "data": {
      "text/plain": [
       "titanic_dense_net(\n",
       "  (fc1): Linear(in_features=281, out_features=256, bias=True)\n",
       "  (fc_middle): Linear(in_features=256, out_features=256, bias=True)\n",
       "  (fc3): Linear(in_features=256, out_features=64, bias=True)\n",
       "  (out): Linear(in_features=64, out_features=1, bias=True)\n",
       "  (relu): ReLU()\n",
       "  (dropout): Dropout(p=0.4, inplace=False)\n",
       "  (sigmoid): Sigmoid()\n",
       ")"
      ]
     },
     "execution_count": 33,
     "metadata": {},
     "output_type": "execute_result"
    }
   ],
   "source": [
    "net"
   ]
  },
  {
   "cell_type": "code",
   "execution_count": 34,
   "metadata": {},
   "outputs": [],
   "source": [
    "# loss and optimization functions\n",
    "lr=0.001\n",
    "\n",
    "# criterion = torch.nn.MSELoss()\n",
    "criterion = torch.nn.BCELoss()\n",
    "optimizer = torch.optim.Adam(net.parameters(), lr=lr)\n"
   ]
  },
  {
   "cell_type": "code",
   "execution_count": 35,
   "metadata": {
    "scrolled": true
   },
   "outputs": [
    {
     "name": "stdout",
     "output_type": "stream",
     "text": [
      "Epoch: 5/500... Step: 5... Loss: 0.541874... Val Loss: 0.499489... Val accuracy: 0.821897\n",
      "Saving...\n",
      "Epoch: 10/500... Step: 10... Loss: 0.347389... Val Loss: 0.379931... Val accuracy: 0.840517\n",
      "Saving...\n",
      "Epoch: 15/500... Step: 15... Loss: 0.311765... Val Loss: 0.421199... Val accuracy: 0.844655\n",
      "Epoch: 20/500... Step: 20... Loss: 0.296399... Val Loss: 0.443253... Val accuracy: 0.844655\n",
      "Epoch: 25/500... Step: 25... Loss: 0.271176... Val Loss: 0.513642... Val accuracy: 0.825517\n",
      "Epoch: 30/500... Step: 30... Loss: 0.246491... Val Loss: 0.700322... Val accuracy: 0.836379\n",
      "Epoch: 35/500... Step: 35... Loss: 0.249012... Val Loss: 0.577083... Val accuracy: 0.850517\n",
      "Epoch: 40/500... Step: 40... Loss: 0.250337... Val Loss: 0.505062... Val accuracy: 0.849138\n",
      "Epoch: 45/500... Step: 45... Loss: 0.242884... Val Loss: 0.504403... Val accuracy: 0.816897\n",
      "Epoch: 50/500... Step: 50... Loss: 0.236692... Val Loss: 0.537325... Val accuracy: 0.801897\n",
      "Epoch: 55/500... Step: 55... Loss: 0.234539... Val Loss: 0.527582... Val accuracy: 0.806897\n",
      "Epoch: 60/500... Step: 60... Loss: 0.209216... Val Loss: 0.786343... Val accuracy: 0.803276\n",
      "Epoch: 65/500... Step: 65... Loss: 0.245761... Val Loss: 0.638337... Val accuracy: 0.836897\n",
      "Epoch: 70/500... Step: 70... Loss: 0.232149... Val Loss: 0.544671... Val accuracy: 0.819138\n",
      "Epoch: 75/500... Step: 75... Loss: 0.281408... Val Loss: 0.627782... Val accuracy: 0.810517\n",
      "Epoch: 80/500... Step: 80... Loss: 0.206013... Val Loss: 0.636455... Val accuracy: 0.806897\n",
      "Epoch: 85/500... Step: 85... Loss: 0.230898... Val Loss: 0.481732... Val accuracy: 0.837759\n",
      "Epoch: 90/500... Step: 90... Loss: 0.212386... Val Loss: 0.529383... Val accuracy: 0.811034\n",
      "Epoch: 95/500... Step: 95... Loss: 0.241293... Val Loss: 0.648454... Val accuracy: 0.833276\n",
      "Epoch: 100/500... Step: 100... Loss: 0.206283... Val Loss: 0.653886... Val accuracy: 0.830517\n",
      "Epoch: 105/500... Step: 105... Loss: 0.202603... Val Loss: 0.685396... Val accuracy: 0.813276\n",
      "Epoch: 110/500... Step: 110... Loss: 0.195680... Val Loss: 0.910734... Val accuracy: 0.831897\n",
      "Stopping\n"
     ]
    }
   ],
   "source": [
    "# training params\n",
    "\n",
    "epochs = 500\n",
    "\n",
    "counter = 0\n",
    "print_every = 5\n",
    "# clip=5 # gradient clipping\n",
    "\n",
    "train_hist = []\n",
    "val_hist = []\n",
    "val_acc = []\n",
    "\n",
    "best_val_loss = np.inf\n",
    "epoch_no_improve = 0\n",
    "n_epochs_stop = 20\n",
    "early_stopping = False\n",
    "\n",
    "# move model to GPU, if available\n",
    "if(train_on_gpu):\n",
    "    net.cuda()\n",
    "\n",
    "net.train()\n",
    "# train for some number of epochs\n",
    "for e in range(epochs):\n",
    "    \n",
    "    counter += 1\n",
    "    running_loss = 0\n",
    "    # batch loop\n",
    "    for inputs, labels in train_loader:\n",
    "        \n",
    "        if(train_on_gpu):\n",
    "            inputs, labels = inputs.cuda(), labels.cuda()\n",
    "\n",
    "        # zero accumulated gradients\n",
    "        net.zero_grad()\n",
    "\n",
    "        # get the output from the model\n",
    "        output = net(inputs)\n",
    "\n",
    "        # calculate the loss and perform backprop\n",
    "        loss = criterion(output.squeeze(), labels.float())\n",
    "        loss.backward()\n",
    "        \n",
    "        # `clip_grad_norm` helps prevent the exploding gradient problem in RNNs / LSTMs.\n",
    "#         nn.utils.clip_grad_norm_(net.parameters(), clip)\n",
    "        optimizer.step()\n",
    "        \n",
    "        running_loss += loss.item()\n",
    "    else:\n",
    "        # loss stats\n",
    "        if counter % print_every == 0:\n",
    "            with torch.no_grad():\n",
    "                # Get validation loss\n",
    "                val_running_loss = 0\n",
    "                val_accuracy = 0\n",
    "                net.eval()\n",
    "                for inputs, labels in val_loader:\n",
    "                    if(train_on_gpu):\n",
    "                        inputs, labels = inputs.cuda(), labels.cuda()\n",
    "\n",
    "                    output= net(inputs)\n",
    "                    val_loss = criterion(output.squeeze(), labels.float())                    \n",
    "                    val_running_loss += val_loss.item()\n",
    "                    \n",
    "                    probs = torch.round(output.squeeze())\n",
    "                    equals = probs == labels.view(*probs.shape)\n",
    "                    val_accuracy += torch.mean(equals.type(torch.FloatTensor))\n",
    "                    \n",
    "                mean_val_loss = val_running_loss/len(val_loader)\n",
    "                train_loss = running_loss/len(train_loader)\n",
    "                val_accuracy = val_accuracy/len(val_loader)\n",
    "\n",
    "                train_hist.append(train_loss)\n",
    "                val_hist.append(mean_val_loss)\n",
    "                val_acc.append(val_accuracy)\n",
    "            \n",
    "            net.train()\n",
    "            \n",
    "            print(\"Epoch: {}/{}...\".format(e+1, epochs),\n",
    "                      \"Step: {}...\".format(counter),\n",
    "                      \"Loss: {:.6f}...\".format(train_loss),\n",
    "                      \"Val Loss: {:.6f}...\".format(mean_val_loss),\n",
    "                      \"Val accuracy: {:.6f}\".format(val_accuracy)\n",
    "                 )\n",
    "            if mean_val_loss < best_val_loss:\n",
    "                best_val_loss = mean_val_loss\n",
    "                epoch_no_improve = 0\n",
    "                \n",
    "                print('Saving...')\n",
    "#                 model_name = 'bce_hd_l_{}_.net'.format(net.hidden_layers)\n",
    "                model_name = 'bce_hd_l_{}_loss_{:.2f}_.net'.format(net.hidden_layers, best_val_loss)\n",
    "\n",
    "                checkpoint = {'hidden_layers': net.hidden_layers,\n",
    "                              'drop_prob': net.drop_prob,\n",
    "                              'state_dict': net.state_dict()\n",
    "                             }\n",
    "                \n",
    "                with open(model_name, 'wb') as f:\n",
    "                    torch.save(checkpoint, f)\n",
    "            else:\n",
    "                epoch_no_improve += 1\n",
    "            \n",
    "            if epoch_no_improve==n_epochs_stop:\n",
    "                print('Stopping')\n",
    "                early_stopping = True\n",
    "                \n",
    "    #     early stopping\n",
    "    if early_stopping:\n",
    "        # restoring best model\n",
    "        with open(model_name, 'rb') as f:\n",
    "            checkpoint = torch.load(f)\n",
    "\n",
    "        loaded = titanic_dense_net( hidden_layers=checkpoint['hidden_layers'], drop_prob=checkpoint['drop_prob'])\n",
    "        loaded.load_state_dict(checkpoint['state_dict'])\n",
    "        break"
   ]
  },
  {
   "cell_type": "code",
   "execution_count": 36,
   "metadata": {},
   "outputs": [
    {
     "data": {
      "image/png": "[encoded data removed]",
      "text/plain": [
       "<Figure size 432x288 with 1 Axes>"
      ]
     },
     "metadata": {
      "needs_background": "light"
     },
     "output_type": "display_data"
    }
   ],
   "source": [
    "plt.plot(train_hist, label='train')\n",
    "plt.plot(val_hist, label='val')\n",
    "\n",
    "plt.title('Best val loss: {:.3f}'.format(best_val_loss))\n",
    "plt.grid()\n",
    "plt.legend(frameon=False)\n",
    "plt.show()"
   ]
  },
  {
   "cell_type": "code",
   "execution_count": null,
   "metadata": {},
   "outputs": [],
   "source": []
  },
  {
   "cell_type": "code",
   "execution_count": 210,
   "metadata": {},
   "outputs": [],
   "source": [
    "# loading model\n",
    "model_name = 'bce_hd_l_6_loss_0.38_.net'\n",
    "with open(model_name, 'rb') as f:\n",
    "    checkpoint = torch.load(f)\n",
    "\n",
    "    loaded = titanic_dense_net( hidden_layers=checkpoint['hidden_layers'],\n",
    "                                drop_prob=checkpoint['drop_prob']\n",
    "                              )\n",
    "    loaded.load_state_dict(checkpoint['state_dict'])"
   ]
  },
  {
   "cell_type": "code",
   "execution_count": 38,
   "metadata": {},
   "outputs": [],
   "source": [
    "def predict(net, array):\n",
    "    net.eval()\n",
    "    with torch.no_grad():\n",
    "        tensor = torch.from_numpy(array)\n",
    "        if train_on_gpu:\n",
    "            tensor = tensor.cuda()\n",
    "        pred = net(tensor)\n",
    "    return np.array(pred.cpu())"
   ]
  },
  {
   "cell_type": "code",
   "execution_count": 158,
   "metadata": {},
   "outputs": [],
   "source": [
    "prediction = predict(net, test_x)"
   ]
  },
  {
   "cell_type": "code",
   "execution_count": 159,
   "metadata": {},
   "outputs": [],
   "source": [
    "predicted_proba = prediction.flatten().round().astype(int)"
   ]
  },
  {
   "cell_type": "code",
   "execution_count": 160,
   "metadata": {},
   "outputs": [
    {
     "data": {
      "text/plain": [
       "array([0, 0, 0, 0, 1, 0, 1, 0, 1, 0, 0, 0, 1, 0, 0, 1, 0, 0, 0, 0, 1, 0,\n",
       "       1, 0, 1, 0, 1, 0, 1, 0, 0, 0, 1, 0, 0, 0, 1, 1, 0, 1, 0, 0, 0, 1,\n",
       "       1, 0, 0, 0, 1, 1, 1, 1, 1, 0, 1, 0, 0, 0, 0, 1, 0, 0, 0, 1, 1, 1,\n",
       "       1, 0, 1, 0, 1, 0, 1, 0, 1, 1, 0, 1, 0, 1, 1, 0, 0, 0, 0, 0, 1, 1,\n",
       "       1, 1, 1, 0, 0, 0, 0, 0, 1, 0, 1, 0, 1, 0, 0, 0, 0, 0, 0, 0, 0, 0,\n",
       "       1, 1, 1, 1, 1, 0, 0, 1, 0, 1, 1, 0, 1, 0, 0, 0, 0, 1, 1, 0, 0, 0,\n",
       "       0, 0, 0, 0, 0, 0, 1, 0, 0, 1, 1, 0, 1, 0, 0, 0, 0, 0, 1, 0, 1, 1,\n",
       "       0, 0, 1, 1, 1, 1, 1, 1, 1, 0, 1, 0, 1, 0, 1, 1, 0, 0, 0, 0, 0, 1,\n",
       "       1, 1, 1, 1, 0, 1, 1, 0, 1, 0, 1, 0, 0, 0, 0, 0, 0, 0, 1, 0, 1, 1,\n",
       "       0, 1, 1, 1, 0, 1, 0, 0, 1, 0, 1, 0, 1, 0, 0, 1, 0, 0, 1, 0, 1, 0,\n",
       "       1, 0, 1, 0, 1, 1, 0, 1, 0, 0, 0, 1, 0, 0, 1, 0, 1, 0, 1, 1, 1, 1,\n",
       "       1, 0, 0, 1, 1, 0, 1, 0, 1, 0, 0, 0, 0, 0, 0, 0, 1, 0, 0, 0, 1, 1,\n",
       "       1, 0, 0, 0, 1, 0, 0, 0, 1, 1, 0, 1, 0, 0, 0, 0, 1, 1, 1, 1, 1, 0,\n",
       "       0, 0, 0, 0, 1, 1, 0, 0, 0, 0, 1, 0, 0, 0, 0, 0, 0, 0, 1, 1, 0, 0,\n",
       "       1, 0, 0, 0, 0, 0, 1, 1, 1, 0, 0, 0, 0, 0, 0, 1, 1, 0, 1, 0, 0, 0,\n",
       "       1, 0, 0, 1, 0, 1, 0, 0, 0, 0, 0, 0, 0, 1, 0, 1, 0, 0, 0, 1, 1, 0,\n",
       "       0, 0, 1, 0, 1, 0, 0, 1, 0, 1, 1, 0, 1, 0, 0, 1, 1, 1, 0, 1, 0, 1,\n",
       "       1, 1, 0, 0, 0, 1, 0, 0, 1, 0, 0, 1, 0, 0, 0, 0, 1, 1, 0, 0, 0, 1,\n",
       "       0, 1, 0, 0, 1, 0, 1, 0, 0, 0, 0, 0, 1, 1, 1, 1, 1, 0, 1, 0, 0, 0])"
      ]
     },
     "execution_count": 160,
     "metadata": {},
     "output_type": "execute_result"
    }
   ],
   "source": [
    "predicted_proba"
   ]
  },
  {
   "cell_type": "code",
   "execution_count": 161,
   "metadata": {},
   "outputs": [
    {
     "data": {
      "image/png": "[encoded data removed]",
      "text/plain": [
       "<Figure size 432x288 with 1 Axes>"
      ]
     },
     "metadata": {
      "needs_background": "light"
     },
     "output_type": "display_data"
    }
   ],
   "source": [
    "plt.hist(predicted_proba)\n",
    "plt.show()"
   ]
  },
  {
   "cell_type": "code",
   "execution_count": null,
   "metadata": {},
   "outputs": [],
   "source": []
  },
  {
   "cell_type": "code",
   "execution_count": 162,
   "metadata": {},
   "outputs": [],
   "source": [
    "# write submission\n",
    "pd.DataFrame({'PassengerId':test_dataset.PassengerId, 'Survived':predicted_proba}).to_csv(\n",
    "    'submission_hd_l_{}_.csv'.format(net.hidden_layers), index=False\n",
    ")"
   ]
  },
  {
   "cell_type": "code",
   "execution_count": null,
   "metadata": {},
   "outputs": [],
   "source": []
  },
  {
   "cell_type": "code",
   "execution_count": 39,
   "metadata": {},
   "outputs": [
    {
     "data": {
      "text/plain": [
       "tensor(0.8324)"
      ]
     },
     "execution_count": 39,
     "metadata": {},
     "output_type": "execute_result"
    }
   ],
   "source": [
    "equals =torch.from_numpy( predict(net, val_x).flatten().round() == val_y)\n",
    "torch.mean(equals.type(torch.FloatTensor))"
   ]
  },
  {
   "cell_type": "code",
   "execution_count": null,
   "metadata": {},
   "outputs": [],
   "source": []
  }
 ],
 "metadata": {
  "kernelspec": {
   "display_name": "Python 3",
   "language": "python",
   "name": "python3"
  },
  "language_info": {
   "codemirror_mode": {
    "name": "ipython",
    "version": 3
   },
   "file_extension": ".py",
   "mimetype": "text/x-python",
   "name": "python",
   "nbconvert_exporter": "python",
   "pygments_lexer": "ipython3",
   "version": "3.6.6"
  }
 },
 "nbformat": 4,
 "nbformat_minor": 4
}
